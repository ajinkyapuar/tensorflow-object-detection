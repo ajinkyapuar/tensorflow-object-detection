{
 "cells": [
  {
   "cell_type": "code",
   "execution_count": 52,
   "metadata": {
    "collapsed": true
   },
   "outputs": [],
   "source": [
    "import os\n",
    "import sys\n",
    "import numpy as np\n",
    "\n",
    "import tarfile\n",
    "import zipfile\n",
    "\n",
    "import cv2\n",
    "\n",
    "import tensorflow as tf\n",
    "\n",
    "# from collections import defaultdict\n",
    "# from io import StringIO\n",
    "# from matplotlib import pyplot as plt\n",
    "\n",
    "# from PIL import Image\n",
    "# import six.moves.urllib as urllib"
   ]
  },
  {
   "cell_type": "code",
   "execution_count": 11,
   "metadata": {},
   "outputs": [],
   "source": [
    "%matplotlib inline\n",
    "\n",
    "# sys.path.append(\"..\")\n",
    "\n",
    "# print sys.path\n",
    "\n",
    "cwd_path = os.getcwd()\n",
    "\n",
    "# print cwd_path\n",
    "\n",
    "model_name = \"ssd_mobilenet_v1_coco_11_06_2017\"\n",
    "\n",
    "# Path to frozen detection graph. This is the actual model that is used for the object detection. \n",
    "\n",
    "path_to_model = os.path.join(cwd_path, 'object_detection', model_name, 'frozen_inference_graph.pb')\n",
    "\n",
    "# print path_to_model\n",
    "\n",
    "# print os.path.exists( path_to_model)\n",
    "\n",
    "# List of the strings that is used to add correct label for each box.\n",
    "path_to_labels = os.path.join(cwd_path, 'object_detection/data/mscoco_label_map.pbtxt')\n",
    "\n",
    "# print path_to_labels\n",
    "\n",
    "# print os.path.exists((path_to_labels))\n",
    "\n",
    "num_classes = 90"
   ]
  },
  {
   "cell_type": "code",
   "execution_count": 40,
   "metadata": {},
   "outputs": [],
   "source": [
    "# Run in Terminal\n",
    "\n",
    "protoc object_detection/protos/*.proto --python_out=."
   ]
  },
  {
   "cell_type": "code",
   "execution_count": 14,
   "metadata": {},
   "outputs": [],
   "source": [
    "from object_detection.utils import label_map_util\n",
    "from object_detection.utils import visualization_utils as vis_util"
   ]
  },
  {
   "cell_type": "code",
   "execution_count": 15,
   "metadata": {},
   "outputs": [],
   "source": [
    "# Loading label map\n",
    "label_map = label_map_util.load_labelmap(path_to_labels)\n",
    "\n",
    "# print label_map\n",
    "\n",
    "categories = label_map_util.convert_label_map_to_categories(label_map, max_num_classes=num_classes,\n",
    "                                                            use_display_name=True)\n",
    "\n",
    "# print categories\n",
    "\n",
    "category_index = label_map_util.create_category_index(categories)\n",
    "\n",
    "# print category_index"
   ]
  },
  {
   "cell_type": "code",
   "execution_count": null,
   "metadata": {},
   "outputs": [],
   "source": [
    "def detect_objects(image_np, sess, detection_graph):\n",
    "    \n",
    "    print image_np\n",
    "    print sess\n",
    "    print detection_graph\n",
    "    \n",
    "    # Expand dimensions since the model expects images to have shape: [1, None, None, 3]\n",
    "    image_np_expanded = np.expand_dims(image_np, axis=0)  \n",
    "    print image_np_expanded\n",
    "    \n",
    "    image_tensor = detection_graph.get_tensor_by_name('image_tensor:0')   \n",
    "    print image_tensor\n",
    "\n",
    "    # Each box represents a part of the image where a particular object was detected.\n",
    "    boxes = detection_graph.get_tensor_by_name('detection_boxes:0')   \n",
    "    print boxes"
   ]
  },
  {
   "cell_type": "code",
   "execution_count": 17,
   "metadata": {},
   "outputs": [],
   "source": [
    "if __name__ == '__main__':\n",
    "    print \"START\""
   ]
  },
  {
   "cell_type": "code",
   "execution_count": null,
   "metadata": {},
   "outputs": [],
   "source": [
    ""
   ]
  }
 ],
 "metadata": {
  "kernelspec": {
   "display_name": "Python 2",
   "language": "python",
   "name": "python2"
  },
  "language_info": {
   "codemirror_mode": {
    "name": "ipython",
    "version": 2.0
   },
   "file_extension": ".py",
   "mimetype": "text/x-python",
   "name": "python",
   "nbconvert_exporter": "python",
   "pygments_lexer": "ipython2",
   "version": "2.7.6"
  }
 },
 "nbformat": 4,
 "nbformat_minor": 0
}