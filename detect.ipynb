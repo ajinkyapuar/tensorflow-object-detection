{
 "cells": [
  {
   "cell_type": "code",
   "execution_count": 8,
   "metadata": {
    "collapsed": true
   },
   "outputs": [],
   "source": [
    "import numpy as np\n",
    "import os\n",
    "import six.moves.urllib as urllib\n",
    "import sys\n",
    "import tarfile\n",
    "import tensorflow as tf\n",
    "import zipfile\n",
    "\n",
    "from collections import defaultdict\n",
    "from io import StringIO\n",
    "from matplotlib import pyplot as plt\n",
    "from PIL import Image"
   ]
  },
  {
   "cell_type": "code",
   "execution_count": 9,
   "metadata": {},
   "outputs": [
    {
     "name": "stdout",
     "output_type": "stream",
     "text": [
      "['', '/Users/ajinkyapuar/anaconda/envs/tensorflow/lib/python27.zip', '/Users/ajinkyapuar/anaconda/envs/tensorflow/lib/python2.7', '/Users/ajinkyapuar/anaconda/envs/tensorflow/lib/python2.7/plat-darwin', '/Users/ajinkyapuar/anaconda/envs/tensorflow/lib/python2.7/plat-mac', '/Users/ajinkyapuar/anaconda/envs/tensorflow/lib/python2.7/plat-mac/lib-scriptpackages', '/Users/ajinkyapuar/anaconda/envs/tensorflow/lib/python2.7/lib-tk', '/Users/ajinkyapuar/anaconda/envs/tensorflow/lib/python2.7/lib-old', '/Users/ajinkyapuar/anaconda/envs/tensorflow/lib/python2.7/lib-dynload', '/Users/ajinkyapuar/anaconda/envs/tensorflow/lib/python2.7/site-packages', '/Users/ajinkyapuar/anaconda/envs/tensorflow/lib/python2.7/site-packages/setuptools-25.1.6-py2.7.egg', '/Users/ajinkyapuar/anaconda/envs/tensorflow/lib/python2.7/site-packages/IPython/extensions', '/Users/ajinkyapuar/.ipython', '..']\n"
     ]
    }
   ],
   "source": [
    "%matplotlib inline\n",
    "\n",
    "sys.path.append(\"..\")\n",
    "\n",
    "print sys.path"
   ]
  },
  {
   "cell_type": "code",
   "execution_count": 15,
   "metadata": {},
   "outputs": [],
   "source": [
    "# from utils import label_map_util\n",
    "# \n",
    "# from utils import visualization_utils as vis_util"
   ]
  },
  {
   "cell_type": "code",
   "execution_count": null,
   "metadata": {},
   "outputs": [],
   "source": [
    "\n"
   ]
  }
 ],
 "metadata": {
  "kernelspec": {
   "display_name": "Python 2",
   "language": "python",
   "name": "python2"
  },
  "language_info": {
   "codemirror_mode": {
    "name": "ipython",
    "version": 2.0
   },
   "file_extension": ".py",
   "mimetype": "text/x-python",
   "name": "python",
   "nbconvert_exporter": "python",
   "pygments_lexer": "ipython2",
   "version": "2.7.6"
  }
 },
 "nbformat": 4,
 "nbformat_minor": 0
}