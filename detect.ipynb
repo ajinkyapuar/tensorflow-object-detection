{
 "cells": [
  {
   "cell_type": "code",
   "execution_count": 43,
   "metadata": {
    "collapsed": true
   },
   "outputs": [],
   "source": [
    "import os\n",
    "import sys\n",
    "import numpy as np\n",
    "\n",
    "import tarfile\n",
    "import zipfile\n",
    "\n",
    "import cv2\n",
    "\n",
    "import tensorflow as tf\n",
    "\n",
    "# from collections import defaultdict\n",
    "# from io import StringIO\n",
    "# from matplotlib import pyplot as plt\n",
    "\n",
    "# from PIL import Image\n",
    "# import six.moves.urllib as urllib"
   ]
  },
  {
   "cell_type": "code",
   "execution_count": 39,
   "metadata": {},
   "outputs": [
    {
     "name": "stdout",
     "output_type": "stream",
     "text": [
      "/Users/ajinkyapuar/Documents/Python/tensorflow-object-detection\n/Users/ajinkyapuar/Documents/Python/tensorflow-object-detection/object_detection/models/ssd_mobilenet_v1_feature_extractor.py\nTrue\n/Users/ajinkyapuar/Documents/Python/tensorflow-object-detection/object_detection/data/mscoco_label_map.pbtxt\nTrue\n"
     ]
    }
   ],
   "source": [
    "%matplotlib inline\n",
    "\n",
    "# sys.path.append(\"..\")\n",
    "\n",
    "# print sys.path\n",
    "\n",
    "cwd_path = os.getcwd()\n",
    "\n",
    "print cwd_path\n",
    "\n",
    "model_name = \"ssd_mobilenet_v1_feature_extractor.py\"\n",
    "\n",
    "path_to_model = os.path.join(cwd_path, 'object_detection/models', model_name)\n",
    "\n",
    "print path_to_model\n",
    "\n",
    "print os.path.exists( path_to_model)\n",
    "\n",
    "path_to_labels = os.path.join(cwd_path, 'object_detection/data/mscoco_label_map.pbtxt')\n",
    "\n",
    "print path_to_labels\n",
    "\n",
    "print os.path.exists((path_to_labels))"
   ]
  },
  {
   "cell_type": "code",
   "execution_count": 40,
   "metadata": {},
   "outputs": [],
   "source": [
    "# Run in Terminal\n",
    "\n",
    "protoc object_detection/protos/*.proto --python_out=.\n"
   ]
  },
  {
   "cell_type": "code",
   "execution_count": 46,
   "metadata": {},
   "outputs": [],
   "source": [
    "from object_detection.utils import label_map_util\n",
    "from object_detection.utils import visualization_utils as vis_util"
   ]
  }
 ],
 "metadata": {
  "kernelspec": {
   "display_name": "Python 2",
   "language": "python",
   "name": "python2"
  },
  "language_info": {
   "codemirror_mode": {
    "name": "ipython",
    "version": 2.0
   },
   "file_extension": ".py",
   "mimetype": "text/x-python",
   "name": "python",
   "nbconvert_exporter": "python",
   "pygments_lexer": "ipython2",
   "version": "2.7.6"
  }
 },
 "nbformat": 4,
 "nbformat_minor": 0
}